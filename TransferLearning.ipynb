{
  "nbformat": 4,
  "nbformat_minor": 0,
  "metadata": {
    "colab": {
      "provenance": [],
      "gpuType": "T4"
    },
    "kernelspec": {
      "name": "python3",
      "display_name": "Python 3"
    },
    "language_info": {
      "name": "python"
    },
    "accelerator": "GPU",
    "gpuClass": "standard"
  },
  "cells": [
    {
      "cell_type": "code",
      "execution_count": null,
      "metadata": {
        "colab": {
          "base_uri": "https://localhost:8080/"
        },
        "id": "pcs9IyM4OWNh",
        "outputId": "a1acccf1-8b60-43d2-a78a-4a58fdbcae58"
      },
      "outputs": [
        {
          "output_type": "stream",
          "name": "stdout",
          "text": [
            "Thu May 25 15:03:55 2023       \n",
            "+-----------------------------------------------------------------------------+\n",
            "| NVIDIA-SMI 525.85.12    Driver Version: 525.85.12    CUDA Version: 12.0     |\n",
            "|-------------------------------+----------------------+----------------------+\n",
            "| GPU  Name        Persistence-M| Bus-Id        Disp.A | Volatile Uncorr. ECC |\n",
            "| Fan  Temp  Perf  Pwr:Usage/Cap|         Memory-Usage | GPU-Util  Compute M. |\n",
            "|                               |                      |               MIG M. |\n",
            "|===============================+======================+======================|\n",
            "|   0  Tesla T4            Off  | 00000000:00:04.0 Off |                    0 |\n",
            "| N/A   32C    P8     9W /  70W |      0MiB / 15360MiB |      0%      Default |\n",
            "|                               |                      |                  N/A |\n",
            "+-------------------------------+----------------------+----------------------+\n",
            "                                                                               \n",
            "+-----------------------------------------------------------------------------+\n",
            "| Processes:                                                                  |\n",
            "|  GPU   GI   CI        PID   Type   Process name                  GPU Memory |\n",
            "|        ID   ID                                                   Usage      |\n",
            "|=============================================================================|\n",
            "|  No running processes found                                                 |\n",
            "+-----------------------------------------------------------------------------+\n"
          ]
        }
      ],
      "source": [
        "!nvidia-smi"
      ]
    },
    {
      "cell_type": "code",
      "source": [
        "import zipfile\n",
        "\n",
        "!wget https://storage.googleapis.com/ztm_tf_course/food_vision/10_food_classes_10_percent.zip\n",
        "zip_ref=zipfile.ZipFile('10_food_classes_10_percent.zip')\n",
        "zip_ref.extractall()\n",
        "zip_ref.close()"
      ],
      "metadata": {
        "colab": {
          "base_uri": "https://localhost:8080/"
        },
        "id": "W_7G5g17OqST",
        "outputId": "ffb49d42-4dae-4d6d-8bc6-ed08de0f51de"
      },
      "execution_count": null,
      "outputs": [
        {
          "output_type": "stream",
          "name": "stdout",
          "text": [
            "--2023-05-25 15:03:55--  https://storage.googleapis.com/ztm_tf_course/food_vision/10_food_classes_10_percent.zip\n",
            "Resolving storage.googleapis.com (storage.googleapis.com)... 142.251.18.128, 142.250.153.128, 142.250.145.128, ...\n",
            "Connecting to storage.googleapis.com (storage.googleapis.com)|142.251.18.128|:443... connected.\n",
            "HTTP request sent, awaiting response... 200 OK\n",
            "Length: 168546183 (161M) [application/zip]\n",
            "Saving to: ‘10_food_classes_10_percent.zip.1’\n",
            "\n",
            "10_food_classes_10_ 100%[===================>] 160.74M  37.8MB/s    in 4.9s    \n",
            "\n",
            "2023-05-25 15:04:01 (32.6 MB/s) - ‘10_food_classes_10_percent.zip.1’ saved [168546183/168546183]\n",
            "\n"
          ]
        }
      ]
    },
    {
      "cell_type": "code",
      "source": [
        "import os\n",
        "\n",
        "for dirpath,dirnames,filenames in os.walk(\"10_food_classes_10_percent\"):\n",
        "  print(f'There are {len(dirnames)} directories and {len(filenames)} in {dirpath}')"
      ],
      "metadata": {
        "colab": {
          "base_uri": "https://localhost:8080/"
        },
        "id": "QHN3d05LP6WV",
        "outputId": "9e5050f8-d97c-41ca-f30b-c44d7166c5eb"
      },
      "execution_count": null,
      "outputs": [
        {
          "output_type": "stream",
          "name": "stdout",
          "text": [
            "There are 2 directories and 0 in 10_food_classes_10_percent\n",
            "There are 10 directories and 0 in 10_food_classes_10_percent/train\n",
            "There are 0 directories and 75 in 10_food_classes_10_percent/train/pizza\n",
            "There are 0 directories and 75 in 10_food_classes_10_percent/train/chicken_wings\n",
            "There are 0 directories and 75 in 10_food_classes_10_percent/train/ramen\n",
            "There are 0 directories and 75 in 10_food_classes_10_percent/train/steak\n",
            "There are 0 directories and 75 in 10_food_classes_10_percent/train/grilled_salmon\n",
            "There are 0 directories and 75 in 10_food_classes_10_percent/train/sushi\n",
            "There are 0 directories and 75 in 10_food_classes_10_percent/train/hamburger\n",
            "There are 0 directories and 75 in 10_food_classes_10_percent/train/fried_rice\n",
            "There are 0 directories and 75 in 10_food_classes_10_percent/train/chicken_curry\n",
            "There are 0 directories and 75 in 10_food_classes_10_percent/train/ice_cream\n",
            "There are 10 directories and 0 in 10_food_classes_10_percent/test\n",
            "There are 0 directories and 250 in 10_food_classes_10_percent/test/pizza\n",
            "There are 0 directories and 250 in 10_food_classes_10_percent/test/chicken_wings\n",
            "There are 0 directories and 250 in 10_food_classes_10_percent/test/ramen\n",
            "There are 0 directories and 250 in 10_food_classes_10_percent/test/steak\n",
            "There are 0 directories and 250 in 10_food_classes_10_percent/test/grilled_salmon\n",
            "There are 0 directories and 250 in 10_food_classes_10_percent/test/sushi\n",
            "There are 0 directories and 250 in 10_food_classes_10_percent/test/hamburger\n",
            "There are 0 directories and 250 in 10_food_classes_10_percent/test/fried_rice\n",
            "There are 0 directories and 250 in 10_food_classes_10_percent/test/chicken_curry\n",
            "There are 0 directories and 250 in 10_food_classes_10_percent/test/ice_cream\n"
          ]
        }
      ]
    },
    {
      "cell_type": "code",
      "source": [
        "from tensorflow.keras.preprocessing.image import ImageDataGenerator\n",
        "\n",
        "IMAGE_SHAPE=(224,224)\n",
        "BATCH_SIZE=32\n",
        "\n",
        "test_dir='10_food_classes_10_percent/train'\n",
        "train_dir='10_food_classes_10_percent/test'\n",
        "\n",
        "train_datagen=ImageDataGenerator(rescale=1/255)\n",
        "test_datagen=ImageDataGenerator(rescale=1/255)\n",
        "\n",
        "print('Training Images')\n",
        "train_data=train_datagen.flow_from_directory(train_dir,\n",
        "                                                        target_size=IMAGE_SHAPE,\n",
        "                                                        batch_size=BATCH_SIZE,\n",
        "                                                        class_mode=\"categorical\")\n",
        "print('Testing images')\n",
        "test_data=test_datagen.flow_from_directory(test_dir,\n",
        "                                           target_size=IMAGE_SHAPE,\n",
        "                                           batch_size=BATCH_SIZE,\n",
        "                                           class_mode='categorical')"
      ],
      "metadata": {
        "colab": {
          "base_uri": "https://localhost:8080/"
        },
        "id": "zUK5mg9dTFRu",
        "outputId": "600f986f-081c-4ac0-94b5-20c7870390c0"
      },
      "execution_count": null,
      "outputs": [
        {
          "output_type": "stream",
          "name": "stdout",
          "text": [
            "Training Images\n",
            "Found 2500 images belonging to 10 classes.\n",
            "Testing images\n",
            "Found 750 images belonging to 10 classes.\n"
          ]
        }
      ]
    },
    {
      "cell_type": "code",
      "source": [
        "import datetime\n",
        "\n",
        "def create_tensorboard_callback(dir_name,experiment_name):\n",
        "  log_dir=dir_name+\"/\"+experiment_name+\"/\"+datetime.datetime.now().strftime(\"%Y%m%d-%H%M%S\")\n",
        "  tensorboard_callback=tf.keras.callbacks.TensorBoard(log_dir=log_dir)\n",
        "  print(f\"Saving TensorBoard log files to:{log_dir}\")\n",
        "  return tensorboard_callback"
      ],
      "metadata": {
        "id": "tHUkRUkdWWvP"
      },
      "execution_count": null,
      "outputs": []
    },
    {
      "cell_type": "code",
      "source": [
        "imageNet_url='https://tfhub.dev/google/imagenet/inception_v2/feature_vector/5'\n",
        "efficientNet_url='https://tfhub.dev/google/imagenet/efficientnet_v2_imagenet1k_b0/feature_vector/2'"
      ],
      "metadata": {
        "id": "NLf4npEibXaK"
      },
      "execution_count": null,
      "outputs": []
    },
    {
      "cell_type": "code",
      "source": [
        "import tensorflow as tf\n",
        "import tensorflow_hub as hub\n",
        "from tensorflow.keras import layers"
      ],
      "metadata": {
        "id": "0IeB5ePuhV3l"
      },
      "execution_count": null,
      "outputs": []
    },
    {
      "cell_type": "code",
      "source": [
        "def create_model(model_url,num_classes=10):\n",
        "  feature_extraction_layer=hub.KerasLayer(model_url,\n",
        "                                         trainable=False,\n",
        "                                         name='feature_extraction_layer',\n",
        "                                         input_shape=IMAGE_SHAPE+(3,))\n",
        "  model=tf.keras.Sequential([\n",
        "      feature_extraction_layer,\n",
        "      layers.Dense(num_classes,activation='softmax',name='output_layer')\n",
        "  ])\n",
        "\n",
        "  return model"
      ],
      "metadata": {
        "id": "KrBGX4EmhrDw"
      },
      "execution_count": null,
      "outputs": []
    },
    {
      "cell_type": "code",
      "source": [
        "resnet_model=create_model(imageNet_url,\n",
        "                          num_classes=train_data.num_classes)"
      ],
      "metadata": {
        "id": "WSd9GnJ1oOz0"
      },
      "execution_count": null,
      "outputs": []
    },
    {
      "cell_type": "code",
      "source": [],
      "metadata": {
        "id": "mRNv34UboyOp"
      },
      "execution_count": null,
      "outputs": []
    }
  ]
}