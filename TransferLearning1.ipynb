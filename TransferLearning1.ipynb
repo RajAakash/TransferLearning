{
  "nbformat": 4,
  "nbformat_minor": 0,
  "metadata": {
    "colab": {
      "provenance": [],
      "gpuType": "T4",
      "authorship_tag": "ABX9TyOMHGj5bW/Vfn05RLc1OLHM",
      "include_colab_link": true
    },
    "kernelspec": {
      "name": "python3",
      "display_name": "Python 3"
    },
    "language_info": {
      "name": "python"
    },
    "accelerator": "GPU"
  },
  "cells": [
    {
      "cell_type": "markdown",
      "metadata": {
        "id": "view-in-github",
        "colab_type": "text"
      },
      "source": [
        "<a href=\"https://colab.research.google.com/github/RajAakash/TransferLearning/blob/main/TransferLearning1.ipynb\" target=\"_parent\"><img src=\"https://colab.research.google.com/assets/colab-badge.svg\" alt=\"Open In Colab\"/></a>"
      ]
    },
    {
      "cell_type": "code",
      "execution_count": null,
      "metadata": {
        "colab": {
          "base_uri": "https://localhost:8080/"
        },
        "id": "8XQHGwqJ89xE",
        "outputId": "ae01961c-afa5-400e-b246-23ee9d97c13e"
      },
      "outputs": [
        {
          "output_type": "stream",
          "name": "stdout",
          "text": [
            "Tue Aug 29 15:40:52 2023       \n",
            "+-----------------------------------------------------------------------------+\n",
            "| NVIDIA-SMI 525.105.17   Driver Version: 525.105.17   CUDA Version: 12.0     |\n",
            "|-------------------------------+----------------------+----------------------+\n",
            "| GPU  Name        Persistence-M| Bus-Id        Disp.A | Volatile Uncorr. ECC |\n",
            "| Fan  Temp  Perf  Pwr:Usage/Cap|         Memory-Usage | GPU-Util  Compute M. |\n",
            "|                               |                      |               MIG M. |\n",
            "|===============================+======================+======================|\n",
            "|   0  Tesla T4            Off  | 00000000:00:04.0 Off |                    0 |\n",
            "| N/A   64C    P8    10W /  70W |      0MiB / 15360MiB |      0%      Default |\n",
            "|                               |                      |                  N/A |\n",
            "+-------------------------------+----------------------+----------------------+\n",
            "                                                                               \n",
            "+-----------------------------------------------------------------------------+\n",
            "| Processes:                                                                  |\n",
            "|  GPU   GI   CI        PID   Type   Process name                  GPU Memory |\n",
            "|        ID   ID                                                   Usage      |\n",
            "|=============================================================================|\n",
            "|  No running processes found                                                 |\n",
            "+-----------------------------------------------------------------------------+\n"
          ]
        }
      ],
      "source": [
        "!nvidia-smi"
      ]
    },
    {
      "cell_type": "code",
      "source": [
        "!wget https://raw.githubusercontent.com/mrdbourke/tensorflow-deep-learning/main/extras/helper_functions.py"
      ],
      "metadata": {
        "colab": {
          "base_uri": "https://localhost:8080/"
        },
        "id": "UcbmfIxh9AEJ",
        "outputId": "16054f83-ec4e-477b-cae3-cca844b72c15"
      },
      "execution_count": null,
      "outputs": [
        {
          "output_type": "stream",
          "name": "stdout",
          "text": [
            "--2023-08-29 15:41:03--  https://raw.githubusercontent.com/mrdbourke/tensorflow-deep-learning/main/extras/helper_functions.py\n",
            "Resolving raw.githubusercontent.com (raw.githubusercontent.com)... 185.199.110.133, 185.199.108.133, 185.199.109.133, ...\n",
            "Connecting to raw.githubusercontent.com (raw.githubusercontent.com)|185.199.110.133|:443... connected.\n",
            "HTTP request sent, awaiting response... 200 OK\n",
            "Length: 10246 (10K) [text/plain]\n",
            "Saving to: ‘helper_functions.py’\n",
            "\n",
            "\rhelper_functions.py   0%[                    ]       0  --.-KB/s               \rhelper_functions.py 100%[===================>]  10.01K  --.-KB/s    in 0s      \n",
            "\n",
            "2023-08-29 15:41:03 (86.0 MB/s) - ‘helper_functions.py’ saved [10246/10246]\n",
            "\n"
          ]
        }
      ]
    },
    {
      "cell_type": "code",
      "source": [
        "from helper_functions import create_tensorboard_callback,plot_loss_curves,unzip_data,walk_through_dir"
      ],
      "metadata": {
        "id": "ySJ5eMbo9JVu"
      },
      "execution_count": null,
      "outputs": []
    },
    {
      "cell_type": "code",
      "source": [
        "!wget https://storage.googleapis.com/ztm_tf_course/food_vision/10_food_classes_10_percent.zip"
      ],
      "metadata": {
        "colab": {
          "base_uri": "https://localhost:8080/"
        },
        "id": "i6t92UGW9Mb3",
        "outputId": "040875bc-e276-41e2-c8d3-63ee30d3a2f5"
      },
      "execution_count": null,
      "outputs": [
        {
          "output_type": "stream",
          "name": "stdout",
          "text": [
            "--2023-08-29 15:41:32--  https://storage.googleapis.com/ztm_tf_course/food_vision/10_food_classes_10_percent.zip\n",
            "Resolving storage.googleapis.com (storage.googleapis.com)... 64.233.182.128, 64.233.183.128, 173.194.193.128, ...\n",
            "Connecting to storage.googleapis.com (storage.googleapis.com)|64.233.182.128|:443... connected.\n",
            "HTTP request sent, awaiting response... 200 OK\n",
            "Length: 168546183 (161M) [application/zip]\n",
            "Saving to: ‘10_food_classes_10_percent.zip’\n",
            "\n",
            "10_food_classes_10_ 100%[===================>] 160.74M   244MB/s    in 0.7s    \n",
            "\n",
            "2023-08-29 15:41:33 (244 MB/s) - ‘10_food_classes_10_percent.zip’ saved [168546183/168546183]\n",
            "\n"
          ]
        }
      ]
    },
    {
      "cell_type": "code",
      "source": [
        "!wget https://storage.googleapis.com/ztm_tf_course/food_vision/10_food_classes_10_percent.zip\n",
        "\n",
        "unzip_data(\"10_food_classes_10_percent.zip\")"
      ],
      "metadata": {
        "colab": {
          "base_uri": "https://localhost:8080/"
        },
        "id": "JQvR8YkT9QQ0",
        "outputId": "92f50bf7-7584-4038-c19a-4b14e1eaad86"
      },
      "execution_count": null,
      "outputs": [
        {
          "output_type": "stream",
          "name": "stdout",
          "text": [
            "--2023-08-29 15:44:00--  https://storage.googleapis.com/ztm_tf_course/food_vision/10_food_classes_10_percent.zip\n",
            "Resolving storage.googleapis.com (storage.googleapis.com)... 142.250.128.128, 142.251.6.128, 172.217.212.128, ...\n",
            "Connecting to storage.googleapis.com (storage.googleapis.com)|142.250.128.128|:443... connected.\n",
            "HTTP request sent, awaiting response... 200 OK\n",
            "Length: 168546183 (161M) [application/zip]\n",
            "Saving to: ‘10_food_classes_10_percent.zip.1’\n",
            "\n",
            "10_food_classes_10_ 100%[===================>] 160.74M   254MB/s    in 0.6s    \n",
            "\n",
            "2023-08-29 15:44:01 (254 MB/s) - ‘10_food_classes_10_percent.zip.1’ saved [168546183/168546183]\n",
            "\n"
          ]
        }
      ]
    },
    {
      "cell_type": "code",
      "source": [
        "walk_through_dir(\"10_food_classes_10_percent\")"
      ],
      "metadata": {
        "colab": {
          "base_uri": "https://localhost:8080/"
        },
        "id": "ZkFPjiGj90Z2",
        "outputId": "bc26e680-5080-48da-f165-5d058bf6ad96"
      },
      "execution_count": null,
      "outputs": [
        {
          "output_type": "stream",
          "name": "stdout",
          "text": [
            "There are 2 directories and 0 images in '10_food_classes_10_percent'.\n",
            "There are 10 directories and 0 images in '10_food_classes_10_percent/test'.\n",
            "There are 0 directories and 250 images in '10_food_classes_10_percent/test/ice_cream'.\n",
            "There are 0 directories and 250 images in '10_food_classes_10_percent/test/steak'.\n",
            "There are 0 directories and 250 images in '10_food_classes_10_percent/test/ramen'.\n",
            "There are 0 directories and 250 images in '10_food_classes_10_percent/test/sushi'.\n",
            "There are 0 directories and 250 images in '10_food_classes_10_percent/test/grilled_salmon'.\n",
            "There are 0 directories and 250 images in '10_food_classes_10_percent/test/pizza'.\n",
            "There are 0 directories and 250 images in '10_food_classes_10_percent/test/chicken_curry'.\n",
            "There are 0 directories and 250 images in '10_food_classes_10_percent/test/chicken_wings'.\n",
            "There are 0 directories and 250 images in '10_food_classes_10_percent/test/hamburger'.\n",
            "There are 0 directories and 250 images in '10_food_classes_10_percent/test/fried_rice'.\n",
            "There are 10 directories and 0 images in '10_food_classes_10_percent/train'.\n",
            "There are 0 directories and 75 images in '10_food_classes_10_percent/train/ice_cream'.\n",
            "There are 0 directories and 75 images in '10_food_classes_10_percent/train/steak'.\n",
            "There are 0 directories and 75 images in '10_food_classes_10_percent/train/ramen'.\n",
            "There are 0 directories and 75 images in '10_food_classes_10_percent/train/sushi'.\n",
            "There are 0 directories and 75 images in '10_food_classes_10_percent/train/grilled_salmon'.\n",
            "There are 0 directories and 75 images in '10_food_classes_10_percent/train/pizza'.\n",
            "There are 0 directories and 75 images in '10_food_classes_10_percent/train/chicken_curry'.\n",
            "There are 0 directories and 75 images in '10_food_classes_10_percent/train/chicken_wings'.\n",
            "There are 0 directories and 75 images in '10_food_classes_10_percent/train/hamburger'.\n",
            "There are 0 directories and 75 images in '10_food_classes_10_percent/train/fried_rice'.\n"
          ]
        }
      ]
    },
    {
      "cell_type": "code",
      "source": [
        "train_dir=\"10_food_classes_10_percent/train\"\n",
        "test_dir=\"10_food_classes_10_percent/test\""
      ],
      "metadata": {
        "id": "KKCR4gHn-RYo"
      },
      "execution_count": null,
      "outputs": []
    },
    {
      "cell_type": "code",
      "source": [
        "import tensorflow as tf\n",
        "IMG_SIZE = (224, 224)\n",
        "train_data_10_percent = tf.keras.preprocessing.image_dataset_from_directory(directory=train_dir,\n",
        "                                                                            image_size=IMG_SIZE,\n",
        "                                                                            label_mode=\"categorical\",\n",
        "                                                                            batch_size=32)\n",
        "\n",
        "test_data_10_percent = tf.keras.preprocessing.image_dataset_from_directory(directory=test_dir,\n",
        "                                                                           image_size=IMG_SIZE,\n",
        "                                                                           label_mode=\"categorical\")"
      ],
      "metadata": {
        "colab": {
          "base_uri": "https://localhost:8080/"
        },
        "id": "169LqQPL93Ty",
        "outputId": "4e6b9140-578b-4c4b-fbb6-c659c0273b05"
      },
      "execution_count": null,
      "outputs": [
        {
          "output_type": "stream",
          "name": "stdout",
          "text": [
            "Found 750 files belonging to 10 classes.\n",
            "Found 2500 files belonging to 10 classes.\n"
          ]
        }
      ]
    },
    {
      "cell_type": "code",
      "source": [
        "train_data_10_percent"
      ],
      "metadata": {
        "colab": {
          "base_uri": "https://localhost:8080/"
        },
        "id": "P8UUcEBW96aT",
        "outputId": "8bab1c4a-995c-4024-e81d-ed13fa5b46f2"
      },
      "execution_count": null,
      "outputs": [
        {
          "output_type": "execute_result",
          "data": {
            "text/plain": [
              "<_BatchDataset element_spec=(TensorSpec(shape=(None, 224, 224, 3), dtype=tf.float32, name=None), TensorSpec(shape=(None, 10), dtype=tf.float32, name=None))>"
            ]
          },
          "metadata": {},
          "execution_count": 10
        }
      ]
    },
    {
      "cell_type": "code",
      "source": [
        "train_data_10_percent.class_names"
      ],
      "metadata": {
        "colab": {
          "base_uri": "https://localhost:8080/"
        },
        "id": "sU5BGvHF-XvX",
        "outputId": "b220929e-89f5-4abb-b6b1-ac9a9008d084"
      },
      "execution_count": null,
      "outputs": [
        {
          "output_type": "execute_result",
          "data": {
            "text/plain": [
              "['chicken_curry',\n",
              " 'chicken_wings',\n",
              " 'fried_rice',\n",
              " 'grilled_salmon',\n",
              " 'hamburger',\n",
              " 'ice_cream',\n",
              " 'pizza',\n",
              " 'ramen',\n",
              " 'steak',\n",
              " 'sushi']"
            ]
          },
          "metadata": {},
          "execution_count": 11
        }
      ]
    },
    {
      "cell_type": "code",
      "source": [
        "for images, labels in train_data_10_percent.take(1):\n",
        "  print(images, labels)"
      ],
      "metadata": {
        "colab": {
          "base_uri": "https://localhost:8080/"
        },
        "id": "4BeP84aa-a7e",
        "outputId": "39b30f0f-9711-4ae0-ef15-cbe78a6a6661"
      },
      "execution_count": null,
      "outputs": [
        {
          "output_type": "stream",
          "name": "stdout",
          "text": [
            "tf.Tensor(\n",
            "[[[[2.10000000e+01 1.80000000e+01 1.10000000e+01]\n",
            "   [2.28571434e+01 1.60000000e+01 1.00000000e+01]\n",
            "   [2.42806110e+01 1.32806120e+01 9.28061199e+00]\n",
            "   ...\n",
            "   [1.12000000e+02 1.38000000e+02 1.37000000e+02]\n",
            "   [1.10000000e+02 1.38000000e+02 1.39000000e+02]\n",
            "   [1.09000000e+02 1.39000000e+02 1.41000000e+02]]\n",
            "\n",
            "  [[2.16428566e+01 1.73571434e+01 1.10000000e+01]\n",
            "   [2.29948978e+01 1.61377544e+01 1.01377544e+01]\n",
            "   [2.50714283e+01 1.40714283e+01 1.00714283e+01]\n",
            "   ...\n",
            "   [1.12000000e+02 1.38000000e+02 1.37000000e+02]\n",
            "   [1.10000000e+02 1.38000000e+02 1.39000000e+02]\n",
            "   [1.09642822e+02 1.38357178e+02 1.39000000e+02]]\n",
            "\n",
            "  [[2.19234695e+01 1.70765305e+01 1.10000000e+01]\n",
            "   [2.39693871e+01 1.70000000e+01 1.10000000e+01]\n",
            "   [2.67857132e+01 1.57857141e+01 1.17857141e+01]\n",
            "   ...\n",
            "   [1.12000000e+02 1.38000000e+02 1.37000000e+02]\n",
            "   [1.10000000e+02 1.38000000e+02 1.39000000e+02]\n",
            "   [1.09923462e+02 1.38076538e+02 1.39000000e+02]]\n",
            "\n",
            "  ...\n",
            "\n",
            "  [[4.79234657e+01 5.79234657e+01 4.99234657e+01]\n",
            "   [4.89285736e+01 5.87142792e+01 5.13571625e+01]\n",
            "   [5.15969467e+01 6.05969467e+01 5.60255356e+01]\n",
            "   ...\n",
            "   [1.80000000e+01 2.20000000e+01 2.10000000e+01]\n",
            "   [1.77857056e+01 2.17857056e+01 2.07857056e+01]\n",
            "   [1.77857056e+01 2.17857056e+01 2.07857056e+01]]\n",
            "\n",
            "  [[4.79744949e+01 5.79744949e+01 4.99744949e+01]\n",
            "   [4.98571625e+01 5.88571625e+01 5.38571625e+01]\n",
            "   [5.31428757e+01 6.21428757e+01 5.91428757e+01]\n",
            "   ...\n",
            "   [1.70714111e+01 2.10714111e+01 2.00714111e+01]\n",
            "   [1.60714111e+01 2.00714111e+01 1.90714111e+01]\n",
            "   [1.57397404e+01 1.97397404e+01 1.87397404e+01]]\n",
            "\n",
            "  [[4.96428528e+01 5.86428528e+01 5.36428528e+01]\n",
            "   [5.09285736e+01 5.99285736e+01 5.49285736e+01]\n",
            "   [5.39336700e+01 6.29336700e+01 5.99336700e+01]\n",
            "   ...\n",
            "   [1.64948883e+01 2.04948883e+01 1.94948883e+01]\n",
            "   [1.53316317e+01 1.93316326e+01 1.83316326e+01]\n",
            "   [1.43571472e+01 1.83571472e+01 1.73571472e+01]]]\n",
            "\n",
            "\n",
            " [[[0.00000000e+00 9.71428585e+00 3.17142849e+01]\n",
            "   [0.00000000e+00 9.92857170e+00 3.19285717e+01]\n",
            "   [2.14285851e-01 7.78571415e+00 3.10000000e+01]\n",
            "   ...\n",
            "   [1.04999781e+01 1.02857141e+01 9.85718632e+00]\n",
            "   [8.23978806e+00 9.23978806e+00 1.12397881e+01]\n",
            "   [7.28571415e+00 8.28571415e+00 1.02857141e+01]]\n",
            "\n",
            "  [[0.00000000e+00 9.71428585e+00 3.17142849e+01]\n",
            "   [0.00000000e+00 9.92857170e+00 3.19285717e+01]\n",
            "   [2.14285851e-01 7.78571415e+00 3.10000000e+01]\n",
            "   ...\n",
            "   [1.22295685e+01 1.20153046e+01 1.15867767e+01]\n",
            "   [1.10663252e+01 1.10663252e+01 1.10663252e+01]\n",
            "   [1.00000000e+01 1.10000000e+01 1.30000000e+01]]\n",
            "\n",
            "  [[0.00000000e+00 9.71428585e+00 2.97142849e+01]\n",
            "   [0.00000000e+00 9.92857170e+00 2.99285717e+01]\n",
            "   [2.14285851e-01 7.78571415e+00 2.93367348e+01]\n",
            "   ...\n",
            "   [9.81118584e+00 9.42854977e+00 8.66327763e+00]\n",
            "   [8.00000000e+00 8.00000000e+00 8.00000000e+00]\n",
            "   [8.57146358e+00 8.57146358e+00 1.01428919e+01]]\n",
            "\n",
            "  ...\n",
            "\n",
            "  [[2.06219406e+02 2.26219406e+02 2.26790878e+02]\n",
            "   [2.08571457e+02 2.28571457e+02 2.29142929e+02]\n",
            "   [2.09214310e+02 2.29214310e+02 2.29785782e+02]\n",
            "   ...\n",
            "   [1.82091812e+02 2.02954086e+02 1.86336716e+02]\n",
            "   [1.82270401e+02 2.03056137e+02 1.88698929e+02]\n",
            "   [1.83000000e+02 2.03000000e+02 1.91000000e+02]]\n",
            "\n",
            "  [[2.06020416e+02 2.27020416e+02 2.28020416e+02]\n",
            "   [2.06005096e+02 2.27005096e+02 2.28005096e+02]\n",
            "   [2.08285721e+02 2.29285721e+02 2.30285721e+02]\n",
            "   ...\n",
            "   [1.81841812e+02 2.02841812e+02 1.85413284e+02]\n",
            "   [1.81005096e+02 2.02005096e+02 1.87005096e+02]\n",
            "   [1.79142883e+02 2.02142883e+02 1.86142883e+02]]\n",
            "\n",
            "  [[2.07642899e+02 2.28642899e+02 2.31642899e+02]\n",
            "   [2.06500031e+02 2.27500031e+02 2.30500031e+02]\n",
            "   [2.10357178e+02 2.31357178e+02 2.32357178e+02]\n",
            "   ...\n",
            "   [1.79219437e+02 2.00219437e+02 1.82790909e+02]\n",
            "   [1.79642822e+02 2.02642822e+02 1.86642822e+02]\n",
            "   [1.80285645e+02 2.03285645e+02 1.87285645e+02]]]\n",
            "\n",
            "\n",
            " [[[4.96581650e+01 3.43010216e+01 1.63724480e+01]\n",
            "   [5.24897957e+01 3.84183693e+01 1.17040806e+01]\n",
            "   [5.16428566e+01 4.08571434e+01 1.18826523e+01]\n",
            "   ...\n",
            "   [1.96142883e+02 1.44142883e+02 9.41428757e+01]\n",
            "   [1.93285706e+02 1.41285706e+02 9.12856979e+01]\n",
            "   [1.93357147e+02 1.41357147e+02 9.13571396e+01]]\n",
            "\n",
            "  [[5.46428566e+01 3.92857132e+01 2.13571396e+01]\n",
            "   [5.31683655e+01 3.90969353e+01 1.32448969e+01]\n",
            "   [6.45867310e+01 5.34030609e+01 2.62448959e+01]\n",
            "   ...\n",
            "   [1.95928574e+02 1.43928574e+02 9.39285736e+01]\n",
            "   [1.93923462e+02 1.41923462e+02 9.19234695e+01]\n",
            "   [1.94260239e+02 1.42260239e+02 9.22602386e+01]]\n",
            "\n",
            "  [[4.01122437e+01 2.32500019e+01 3.39795971e+00]\n",
            "   [3.99081612e+01 2.46938763e+01 1.69387686e+00]\n",
            "   [3.82091827e+01 2.36377544e+01 1.92346942e+00]\n",
            "   ...\n",
            "   [1.97403076e+02 1.45617371e+02 9.49745026e+01]\n",
            "   [1.96515289e+02 1.44729584e+02 9.40867233e+01]\n",
            "   [1.97142899e+02 1.45357178e+02 9.47143173e+01]]\n",
            "\n",
            "  ...\n",
            "\n",
            "  [[1.05989830e+02 8.69898300e+01 5.49898338e+01]\n",
            "   [1.05984695e+02 8.69846954e+01 5.49846954e+01]\n",
            "   [1.04525513e+02 8.55255127e+01 5.35255127e+01]\n",
            "   ...\n",
            "   [4.32243271e+01 1.88674240e+01 8.29595280e+00]\n",
            "   [5.04795685e+01 2.47958870e+01 1.78673286e+01]\n",
            "   [6.49749527e+01 2.99900665e+01 2.80564499e+01]]\n",
            "\n",
            "  [[1.07285698e+02 8.62856979e+01 5.52857018e+01]\n",
            "   [1.05928558e+02 8.69285583e+01 5.49285583e+01]\n",
            "   [1.07785713e+02 8.87857132e+01 5.67857132e+01]\n",
            "   ...\n",
            "   [4.46632156e+01 1.96376362e+01 1.21275148e+01]\n",
            "   [5.98013382e+01 2.92349110e+01 2.10971317e+01]\n",
            "   [8.07910004e+01 4.11480904e+01 3.42195015e+01]]\n",
            "\n",
            "  [[1.06658287e+02 8.56582870e+01 5.46582909e+01]\n",
            "   [1.06357285e+02 8.73572845e+01 5.53572845e+01]\n",
            "   [1.06994957e+02 8.86378174e+01 5.64235306e+01]\n",
            "   ...\n",
            "   [6.30159073e+01 3.18167572e+01 2.93780518e+01]\n",
            "   [8.15362015e+01 4.22249451e+01 3.45820007e+01]\n",
            "   [1.16551971e+02 7.91387482e+01 6.41232605e+01]]]\n",
            "\n",
            "\n",
            " ...\n",
            "\n",
            "\n",
            " [[[3.00000000e+00 3.00000000e+00 5.00000000e+00]\n",
            "   [3.00000000e+00 3.00000000e+00 5.00000000e+00]\n",
            "   [3.00000000e+00 3.00000000e+00 5.00000000e+00]\n",
            "   ...\n",
            "   [5.86225891e+00 5.21940184e+00 3.50515938e+00]\n",
            "   [1.27398138e+01 9.45409966e+00 9.16838455e+00]\n",
            "   [1.57703857e+01 1.01275282e+01 1.28418140e+01]]\n",
            "\n",
            "  [[3.00000000e+00 3.00000000e+00 5.00000000e+00]\n",
            "   [3.00000000e+00 3.00000000e+00 5.00000000e+00]\n",
            "   [3.00000000e+00 3.00000000e+00 5.00000000e+00]\n",
            "   ...\n",
            "   [1.35000229e+01 4.78573608e+00 1.12247586e-01]\n",
            "   [1.78571701e+01 9.07654476e+00 4.41841745e+00]\n",
            "   [2.17602024e+01 1.09030590e+01 9.11734390e+00]]\n",
            "\n",
            "  [[3.00000000e+00 3.00000000e+00 5.00000000e+00]\n",
            "   [3.00000000e+00 3.00000000e+00 5.00000000e+00]\n",
            "   [3.00000000e+00 3.00000000e+00 5.00000000e+00]\n",
            "   ...\n",
            "   [2.39030571e+01 1.09030571e+01 3.07145119e+00]\n",
            "   [2.88571815e+01 1.42857542e+01 9.07146835e+00]\n",
            "   [3.30714302e+01 1.80714302e+01 1.30714293e+01]]\n",
            "\n",
            "  ...\n",
            "\n",
            "  [[1.59285498e+01 9.92854977e+00 9.92854977e+00]\n",
            "   [1.10867329e+01 7.08673286e+00 6.08673286e+00]\n",
            "   [9.61734200e+00 8.83162785e+00 6.83162785e+00]\n",
            "   ...\n",
            "   [1.94025406e+02 1.85025406e+02 1.88025406e+02]\n",
            "   [1.94984695e+02 1.85984695e+02 1.88984695e+02]\n",
            "   [1.92158051e+02 1.83158051e+02 1.86158051e+02]]\n",
            "\n",
            "  [[1.67142849e+01 1.07142859e+01 1.07142859e+01]\n",
            "   [1.31377668e+01 9.13776684e+00 8.13776684e+00]\n",
            "   [1.05714283e+01 9.78571415e+00 7.78571415e+00]\n",
            "   ...\n",
            "   [1.96984695e+02 1.87984695e+02 1.90984695e+02]\n",
            "   [1.93857117e+02 1.84857117e+02 1.87857117e+02]\n",
            "   [1.94311249e+02 1.85311249e+02 1.88311249e+02]]\n",
            "\n",
            "  [[1.59999657e+01 9.99996471e+00 9.99996471e+00]\n",
            "   [1.30459156e+01 9.04591560e+00 8.04591560e+00]\n",
            "   [1.00765028e+01 9.29078865e+00 7.29078865e+00]\n",
            "   ...\n",
            "   [1.93795883e+02 1.84795883e+02 1.87795883e+02]\n",
            "   [1.94025604e+02 1.85025604e+02 1.88025604e+02]\n",
            "   [1.93045990e+02 1.84045990e+02 1.87045990e+02]]]\n",
            "\n",
            "\n",
            " [[[1.55642853e+02 1.55642853e+02 1.31642853e+02]\n",
            "   [1.59168365e+02 1.59168365e+02 1.35168365e+02]\n",
            "   [1.59714294e+02 1.59714294e+02 1.35714294e+02]\n",
            "   ...\n",
            "   [1.00000000e+00 0.00000000e+00 3.10000000e+01]\n",
            "   [1.00000000e+00 0.00000000e+00 3.10000000e+01]\n",
            "   [1.00000000e+00 0.00000000e+00 3.10000000e+01]]\n",
            "\n",
            "  [[1.55520416e+02 1.52525513e+02 1.31857132e+02]\n",
            "   [1.56346939e+02 1.54147964e+02 1.33214294e+02]\n",
            "   [1.57683670e+02 1.55086746e+02 1.34255096e+02]\n",
            "   ...\n",
            "   [1.00000000e+00 0.00000000e+00 3.10000000e+01]\n",
            "   [1.00000000e+00 0.00000000e+00 3.10000000e+01]\n",
            "   [1.00000000e+00 0.00000000e+00 3.10000000e+01]]\n",
            "\n",
            "  [[1.42000000e+02 1.34571426e+02 1.17214287e+02]\n",
            "   [1.46943878e+02 1.39515305e+02 1.22158165e+02]\n",
            "   [1.53617340e+02 1.46188782e+02 1.28831635e+02]\n",
            "   ...\n",
            "   [1.00000000e+00 0.00000000e+00 3.10000000e+01]\n",
            "   [1.00000000e+00 0.00000000e+00 3.10000000e+01]\n",
            "   [1.00000000e+00 0.00000000e+00 3.10000000e+01]]\n",
            "\n",
            "  ...\n",
            "\n",
            "  [[6.10000000e+01 1.00000000e+00 2.70000000e+01]\n",
            "   [6.36990051e+01 7.44916797e-01 2.77296124e+01]\n",
            "   [6.76428604e+01 1.00000000e+00 2.82142868e+01]\n",
            "   ...\n",
            "   [8.76173782e+01 8.19745865e+01 1.04188850e+02]\n",
            "   [7.78315964e+01 7.48315964e+01 9.58315964e+01]\n",
            "   [7.90051193e+01 7.60051193e+01 9.70051193e+01]]\n",
            "\n",
            "  [[6.40000000e+01 1.00000000e+00 2.80000000e+01]\n",
            "   [6.50663376e+01 9.33661282e-01 2.80000000e+01]\n",
            "   [7.07296143e+01 7.85714149e-01 2.90153084e+01]\n",
            "   ...\n",
            "   [8.66172714e+01 8.09744797e+01 1.03188744e+02]\n",
            "   [8.18622208e+01 7.88622208e+01 9.98622208e+01]\n",
            "   [7.54030075e+01 7.24030075e+01 9.34030075e+01]]\n",
            "\n",
            "  [[6.50000000e+01 1.00000000e+00 2.80000000e+01]\n",
            "   [6.69285736e+01 9.28571701e-01 2.89285717e+01]\n",
            "   [7.24184265e+01 5.05074561e-01 2.92142868e+01]\n",
            "   ...\n",
            "   [9.03571167e+01 8.47143250e+01 1.06928589e+02]\n",
            "   [8.05458603e+01 7.75458603e+01 9.85458603e+01]\n",
            "   [7.90255508e+01 7.60255508e+01 9.70255508e+01]]]\n",
            "\n",
            "\n",
            " [[[1.07632652e+02 1.32586731e+02 1.50887756e+02]\n",
            "   [1.06045921e+02 1.32045914e+02 1.47188766e+02]\n",
            "   [1.08632652e+02 1.34479584e+02 1.47403061e+02]\n",
            "   ...\n",
            "   [2.20714512e+01 2.30714512e+01 2.78571873e+01]\n",
            "   [2.02857151e+01 1.92857151e+01 2.52857151e+01]\n",
            "   [2.10000343e+01 2.00000343e+01 2.60000343e+01]]\n",
            "\n",
            "  [[1.05836739e+02 1.26862244e+02 1.41362244e+02]\n",
            "   [1.07443878e+02 1.30443878e+02 1.46443878e+02]\n",
            "   [1.07632660e+02 1.34959183e+02 1.51617355e+02]\n",
            "   ...\n",
            "   [2.38010406e+01 2.48010406e+01 2.95867767e+01]\n",
            "   [2.19336605e+01 2.09336605e+01 2.69336605e+01]\n",
            "   [2.14286060e+01 2.04286060e+01 2.64286060e+01]]\n",
            "\n",
            "  [[1.09709183e+02 1.28275513e+02 1.43071426e+02]\n",
            "   [1.09040817e+02 1.35954086e+02 1.53709183e+02]\n",
            "   [1.17709190e+02 1.53489792e+02 1.76775513e+02]\n",
            "   ...\n",
            "   [2.47398224e+01 2.57398224e+01 3.05255585e+01]\n",
            "   [2.51428452e+01 2.41428452e+01 3.01428452e+01]\n",
            "   [2.42142868e+01 2.32142868e+01 2.92142868e+01]]\n",
            "\n",
            "  ...\n",
            "\n",
            "  [[2.31642853e+02 2.23642853e+02 2.12642853e+02]\n",
            "   [2.33000000e+02 2.25000000e+02 2.14000000e+02]\n",
            "   [2.31000000e+02 2.23000000e+02 2.12000000e+02]\n",
            "   ...\n",
            "   [2.20000000e+02 2.17000000e+02 2.11234756e+02]\n",
            "   [2.19928558e+02 2.16928558e+02 2.11928558e+02]\n",
            "   [2.18214264e+02 2.15214264e+02 2.10214264e+02]]\n",
            "\n",
            "  [[2.31642853e+02 2.23642853e+02 2.12642853e+02]\n",
            "   [2.33000000e+02 2.25000000e+02 2.14000000e+02]\n",
            "   [2.31000000e+02 2.23000000e+02 2.12000000e+02]\n",
            "   ...\n",
            "   [2.16571472e+02 2.13571472e+02 2.08571472e+02]\n",
            "   [2.19000000e+02 2.16000000e+02 2.11000000e+02]\n",
            "   [2.17668335e+02 2.14668335e+02 2.09668335e+02]]\n",
            "\n",
            "  [[2.31642853e+02 2.23642853e+02 2.12642853e+02]\n",
            "   [2.33000000e+02 2.25000000e+02 2.14000000e+02]\n",
            "   [2.31000000e+02 2.23000000e+02 2.12000000e+02]\n",
            "   ...\n",
            "   [2.18790878e+02 2.15790878e+02 2.10790878e+02]\n",
            "   [2.18000000e+02 2.15000000e+02 2.10000000e+02]\n",
            "   [2.18000000e+02 2.14000000e+02 2.11000000e+02]]]], shape=(32, 224, 224, 3), dtype=float32) tf.Tensor(\n",
            "[[0. 0. 0. 0. 0. 1. 0. 0. 0. 0.]\n",
            " [0. 0. 0. 1. 0. 0. 0. 0. 0. 0.]\n",
            " [0. 0. 0. 0. 0. 0. 0. 1. 0. 0.]\n",
            " [1. 0. 0. 0. 0. 0. 0. 0. 0. 0.]\n",
            " [0. 0. 0. 0. 0. 0. 0. 1. 0. 0.]\n",
            " [0. 0. 1. 0. 0. 0. 0. 0. 0. 0.]\n",
            " [0. 0. 0. 1. 0. 0. 0. 0. 0. 0.]\n",
            " [0. 0. 0. 0. 0. 0. 1. 0. 0. 0.]\n",
            " [0. 0. 0. 0. 0. 0. 1. 0. 0. 0.]\n",
            " [1. 0. 0. 0. 0. 0. 0. 0. 0. 0.]\n",
            " [1. 0. 0. 0. 0. 0. 0. 0. 0. 0.]\n",
            " [0. 1. 0. 0. 0. 0. 0. 0. 0. 0.]\n",
            " [0. 1. 0. 0. 0. 0. 0. 0. 0. 0.]\n",
            " [1. 0. 0. 0. 0. 0. 0. 0. 0. 0.]\n",
            " [0. 1. 0. 0. 0. 0. 0. 0. 0. 0.]\n",
            " [0. 0. 0. 0. 1. 0. 0. 0. 0. 0.]\n",
            " [0. 0. 0. 0. 0. 0. 0. 0. 1. 0.]\n",
            " [0. 1. 0. 0. 0. 0. 0. 0. 0. 0.]\n",
            " [0. 0. 0. 0. 0. 0. 1. 0. 0. 0.]\n",
            " [0. 0. 0. 0. 0. 0. 0. 0. 0. 1.]\n",
            " [0. 0. 0. 0. 0. 0. 0. 1. 0. 0.]\n",
            " [0. 1. 0. 0. 0. 0. 0. 0. 0. 0.]\n",
            " [1. 0. 0. 0. 0. 0. 0. 0. 0. 0.]\n",
            " [0. 0. 0. 0. 0. 1. 0. 0. 0. 0.]\n",
            " [0. 0. 0. 1. 0. 0. 0. 0. 0. 0.]\n",
            " [0. 0. 1. 0. 0. 0. 0. 0. 0. 0.]\n",
            " [0. 0. 0. 0. 0. 0. 0. 0. 1. 0.]\n",
            " [0. 0. 1. 0. 0. 0. 0. 0. 0. 0.]\n",
            " [0. 0. 0. 0. 0. 0. 0. 0. 1. 0.]\n",
            " [0. 0. 0. 0. 0. 1. 0. 0. 0. 0.]\n",
            " [0. 1. 0. 0. 0. 0. 0. 0. 0. 0.]\n",
            " [0. 0. 1. 0. 0. 0. 0. 0. 0. 0.]], shape=(32, 10), dtype=float32)\n"
          ]
        }
      ]
    },
    {
      "cell_type": "code",
      "source": [
        "# 1. Create base model with tf.keras.applications\n",
        "base_model = tf.keras.applications.efficientnet_v2.EfficientNetV2B0(include_top=False)\n",
        "\n",
        "# OLD\n",
        "# base_model = tf.keras.applications.EfficientNetB0(include_top=False)\n",
        "\n",
        "# 2. Freeze the base model (so the pre-learned patterns remain)\n",
        "base_model.trainable = False\n",
        "\n",
        "# 3. Create inputs into the base model\n",
        "inputs = tf.keras.layers.Input(shape=(224, 224, 3), name=\"input_layer\")\n",
        "\n",
        "# 4. If using ResNet50V2, add this to speed up convergence, remove for EfficientNetV2\n",
        "# x = tf.keras.layers.experimental.preprocessing.Rescaling(1./255)(inputs)\n",
        "\n",
        "# 5. Pass the inputs to the base_model (note: using tf.keras.applications, EfficientNetV2 inputs don't have to be normalized)\n",
        "x = base_model(inputs)\n",
        "# Check data shape after passing it to base_model\n",
        "print(f\"Shape after base_model: {x.shape}\")\n",
        "\n",
        "# 6. Average pool the outputs of the base model (aggregate all the most important information, reduce number of computations)\n",
        "x = tf.keras.layers.GlobalAveragePooling2D(name=\"global_average_pooling_layer\")(x)\n",
        "print(f\"After GlobalAveragePooling2D(): {x.shape}\")\n",
        "\n",
        "# 7. Create the output activation layer\n",
        "outputs = tf.keras.layers.Dense(10, activation=\"softmax\", name=\"output_layer\")(x)\n",
        "\n",
        "# 8. Combine the inputs with the outputs into a model\n",
        "model_0 = tf.keras.Model(inputs, outputs)\n",
        "\n",
        "# 9. Compile the model\n",
        "model_0.compile(loss='categorical_crossentropy',\n",
        "              optimizer=tf.keras.optimizers.Adam(),\n",
        "              metrics=[\"accuracy\"])\n",
        "\n",
        "# 10. Fit the model (we use less steps for validation so it's faster)\n",
        "history_10_percent = model_0.fit(train_data_10_percent,\n",
        "                                 epochs=5,\n",
        "                                 steps_per_epoch=len(train_data_10_percent),\n",
        "                                 validation_data=test_data_10_percent,\n",
        "                                 # Go through less of the validation data so epochs are faster (we want faster experiments!)\n",
        "                                 validation_steps=int(0.25 * len(test_data_10_percent)),\n",
        "                                 # Track our model's training logs for visualization later\n",
        "                                 callbacks=[create_tensorboard_callback(\"transfer_learning\", \"10_percent_feature_extract\")])\n"
      ],
      "metadata": {
        "colab": {
          "base_uri": "https://localhost:8080/"
        },
        "id": "ChzEOAjm-dUf",
        "outputId": "ddcfd3b5-d6c8-41d6-8798-07462dbadb38"
      },
      "execution_count": null,
      "outputs": [
        {
          "output_type": "stream",
          "name": "stdout",
          "text": [
            "Downloading data from https://storage.googleapis.com/tensorflow/keras-applications/efficientnet_v2/efficientnetv2-b0_notop.h5\n",
            "24274472/24274472 [==============================] - 0s 0us/step\n",
            "Shape after base_model: (None, 7, 7, 1280)\n",
            "After GlobalAveragePooling2D(): (None, 1280)\n",
            "Saving TensorBoard log files to: transfer_learning/10_percent_feature_extract/20230829-154725\n",
            "Epoch 1/5\n",
            "24/24 [==============================] - 23s 283ms/step - loss: 1.8365 - accuracy: 0.4467 - val_loss: 1.3132 - val_accuracy: 0.7188\n",
            "Epoch 2/5\n",
            "24/24 [==============================] - 7s 288ms/step - loss: 1.1248 - accuracy: 0.7627 - val_loss: 0.9012 - val_accuracy: 0.8158\n",
            "Epoch 3/5\n",
            "24/24 [==============================] - 4s 137ms/step - loss: 0.8156 - accuracy: 0.8413 - val_loss: 0.7005 - val_accuracy: 0.8569\n",
            "Epoch 4/5\n",
            "24/24 [==============================] - 5s 174ms/step - loss: 0.6630 - accuracy: 0.8493 - val_loss: 0.6269 - val_accuracy: 0.8421\n",
            "Epoch 5/5\n",
            "24/24 [==============================] - 4s 140ms/step - loss: 0.5830 - accuracy: 0.8653 - val_loss: 0.5809 - val_accuracy: 0.8503\n"
          ]
        }
      ]
    },
    {
      "cell_type": "code",
      "source": [],
      "metadata": {
        "id": "mXApXbfF-kcB"
      },
      "execution_count": null,
      "outputs": []
    }
  ]
}