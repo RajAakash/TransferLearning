{
  "nbformat": 4,
  "nbformat_minor": 0,
  "metadata": {
    "colab": {
      "provenance": [],
      "authorship_tag": "ABX9TyPYj9q422mCy0ByERcu0XYU",
      "include_colab_link": true
    },
    "kernelspec": {
      "name": "python3",
      "display_name": "Python 3"
    },
    "language_info": {
      "name": "python"
    }
  },
  "cells": [
    {
      "cell_type": "markdown",
      "metadata": {
        "id": "view-in-github",
        "colab_type": "text"
      },
      "source": [
        "<a href=\"https://colab.research.google.com/github/RajAakash/TransferLearning/blob/main/Transformer.ipynb\" target=\"_parent\"><img src=\"https://colab.research.google.com/assets/colab-badge.svg\" alt=\"Open In Colab\"/></a>"
      ]
    },
    {
      "cell_type": "code",
      "execution_count": 2,
      "metadata": {
        "id": "US2a8_I1eA7I"
      },
      "outputs": [],
      "source": [
        "import torch\n",
        "import torch.nn as nn\n",
        "\n",
        "class TransformerRegressor(nn.Module):\n",
        "    def __init__(self, input_size, d_model, nhead, num_encoder_layers, num_decoder_layers):\n",
        "        super(TransformerRegressor, self).__init__()\n",
        "\n",
        "        self.embedding = nn.Embedding(input_size, d_model)\n",
        "        self.transformer = nn.Transformer(\n",
        "            d_model=d_model,\n",
        "            nhead=nhead,\n",
        "            num_encoder_layers=num_encoder_layers,\n",
        "            num_decoder_layers=num_decoder_layers\n",
        "        )\n",
        "        self.fc = nn.Linear(d_model, 1)  # Output layer with one neuron for regression\n",
        "\n",
        "    def forward(self, src, tgt):\n",
        "        src = self.embedding(src)\n",
        "        tgt = self.embedding(tgt)\n",
        "\n",
        "        output = self.transformer(src, tgt)\n",
        "        output = self.fc(output.mean(dim=0))  # Use the mean as an aggregation for regression\n",
        "\n",
        "        return output"
      ]
    },
    {
      "cell_type": "code",
      "source": [
        "# Example usage\n",
        "input_size = 10000  # Input vocabulary size\n",
        "d_model = 512      # Dimension of model\n",
        "nhead = 8          # Number of attention heads\n",
        "num_encoder_layers = 6  # Number of encoder layers\n",
        "num_decoder_layers = 6  # Number of decoder layers\n",
        "\n",
        "model = TransformerRegressor(input_size, d_model, nhead, num_encoder_layers, num_decoder_layers)\n",
        "\n",
        "# Sample input data\n",
        "src = torch.randint(0, input_size, (10, 32))  # (sequence length, batch size)\n",
        "tgt = torch.randint(0, input_size, (20, 32))  # (sequence length, batch size)\n",
        "\n",
        "output = model(src, tgt)\n",
        "print(output)"
      ],
      "metadata": {
        "colab": {
          "base_uri": "https://localhost:8080/"
        },
        "id": "2CNLAWpreJ9C",
        "outputId": "9b6ed2a9-65bb-4262-d753-e3fd6553bf57"
      },
      "execution_count": 4,
      "outputs": [
        {
          "output_type": "stream",
          "name": "stderr",
          "text": [
            "/usr/local/lib/python3.10/dist-packages/torch/nn/modules/transformer.py:282: UserWarning: enable_nested_tensor is True, but self.use_nested_tensor is False because encoder_layer.self_attn.batch_first was not True(use batch_first for better inference performance)\n",
            "  warnings.warn(f\"enable_nested_tensor is True, but self.use_nested_tensor is False because {why_not_sparsity_fast_path}\")\n"
          ]
        },
        {
          "output_type": "stream",
          "name": "stdout",
          "text": [
            "tensor([[-0.5408],\n",
            "        [-0.4541],\n",
            "        [-0.3167],\n",
            "        [-0.2578],\n",
            "        [-0.8046],\n",
            "        [-0.3123],\n",
            "        [-0.0695],\n",
            "        [-0.1574],\n",
            "        [-0.3718],\n",
            "        [-0.4652],\n",
            "        [-0.9143],\n",
            "        [-0.5577],\n",
            "        [-0.3226],\n",
            "        [-0.6044],\n",
            "        [-0.6635],\n",
            "        [-0.4477],\n",
            "        [-0.6898],\n",
            "        [-0.2562],\n",
            "        [-0.2867],\n",
            "        [-0.5554],\n",
            "        [-0.7917],\n",
            "        [-0.8183],\n",
            "        [-0.3308],\n",
            "        [-0.8577],\n",
            "        [-0.5165],\n",
            "        [-0.5427],\n",
            "        [-0.7948],\n",
            "        [-0.6136],\n",
            "        [-0.4113],\n",
            "        [-0.5328],\n",
            "        [-0.3936],\n",
            "        [-0.4751]], grad_fn=<AddmmBackward0>)\n"
          ]
        }
      ]
    }
  ]
}